{
  "cells": [
    {
      "cell_type": "code",
      "execution_count": 1,
      "metadata": {
        "id": "_0FCzr7v1akU"
      },
      "outputs": [],
      "source": [
        "import re"
      ]
    },
    {
      "cell_type": "code",
      "execution_count": 2,
      "metadata": {
        "colab": {
          "base_uri": "https://localhost:8080/"
        },
        "id": "s-lXC9k_1fbi",
        "outputId": "eeddd3d5-8824-4804-a6e9-f16b19c58dcf"
      },
      "outputs": [
        {
          "name": "stdout",
          "output_type": "stream",
          "text": [
            "Matches: ['Hello', 'world']\n"
          ]
        }
      ],
      "source": [
        "# Example 1: Find all matches\n",
        "text = \"Hello, world! This is a sample text.\"\n",
        "pattern = r\"\\b\\w{5}\\b\"  # Matches words with exactly 5 characters\n",
        "\n",
        "matches = re.findall(pattern, text)\n",
        "print(\"Matches:\", matches)"
      ]
    },
    {
      "cell_type": "code",
      "execution_count": 3,
      "metadata": {
        "colab": {
          "base_uri": "https://localhost:8080/"
        },
        "id": "2KO0gUwM128O",
        "outputId": "f3376601-e2be-4eab-9485-342f41f1cb1b"
      },
      "outputs": [
        {
          "name": "stdout",
          "output_type": "stream",
          "text": [
            "Pattern found at index 16\n"
          ]
        }
      ],
      "source": [
        "# Example 2: Search for a pattern\n",
        "text = \"The quick brown fox jumps over the lazy dog.\"\n",
        "pattern = r\"\\bfox\\b\"  # Searches for the word \"fox\"\n",
        "\n",
        "match = re.search(pattern, text)\n",
        "if match:\n",
        "    print(\"Pattern found at index\", match.start())\n",
        "else:\n",
        "    print(\"Pattern not found\")"
      ]
    },
    {
      "cell_type": "code",
      "execution_count": 4,
      "metadata": {
        "colab": {
          "base_uri": "https://localhost:8080/"
        },
        "id": "Lnq0qCh819Dc",
        "outputId": "0db372ca-141f-485a-80a7-7cbc2c84f499"
      },
      "outputs": [
        {
          "name": "stdout",
          "output_type": "stream",
          "text": [
            "New text: Hello, universe! This is a sample text.\n"
          ]
        }
      ],
      "source": [
        "# Example 3: Replace matches\n",
        "text = \"Hello, world! This is a sample text.\"\n",
        "pattern = r\"\\bworld\\b\"  # Matches the word \"world\"\n",
        "\n",
        "new_text = re.sub(pattern, \"universe\", text)\n",
        "print(\"New text:\", new_text)"
      ]
    },
    {
      "cell_type": "code",
      "execution_count": 5,
      "metadata": {
        "colab": {
          "base_uri": "https://localhost:8080/"
        },
        "id": "ASXKy97t2Dol",
        "outputId": "71407998-a4b1-4911-c7b0-168a8c0f29c8"
      },
      "outputs": [
        {
          "name": "stdout",
          "output_type": "stream",
          "text": [
            "Split text: ['Hello', 'world', 'This', 'is', 'a', 'sample', 'text', '']\n"
          ]
        }
      ],
      "source": [
        "# Example 4: Splitting a string\n",
        "text = \"Hello, world! This is a sample text.\"\n",
        "pattern = r\"\\W+\"  # Matches one or more non-word characters\n",
        "\n",
        "split_text = re.split(pattern, text)\n",
        "print(\"Split text:\", split_text)"
      ]
    },
    {
      "cell_type": "code",
      "execution_count": 6,
      "metadata": {
        "colab": {
          "base_uri": "https://localhost:8080/"
        },
        "id": "lPLdQ2Ql2KmF",
        "outputId": "cf1797ce-8446-4873-e022-0f970c95c51b"
      },
      "outputs": [
        {
          "name": "stdout",
          "output_type": "stream",
          "text": [
            "Full match: John Doe, 30 years old\n",
            "First name: John\n",
            "Last name: Doe\n",
            "Age: 30\n"
          ]
        }
      ],
      "source": [
        "# Example 5: Using groups\n",
        "text = \"John Doe, 30 years old\"\n",
        "pattern = r\"(\\w+) (\\w+), (\\d+) years old\"\n",
        "\n",
        "match = re.search(pattern, text)\n",
        "if match:\n",
        "    print(\"Full match:\", match.group(0))\n",
        "    print(\"First name:\", match.group(1))\n",
        "    print(\"Last name:\", match.group(2))\n",
        "    print(\"Age:\", match.group(3))"
      ]
    },
    {
      "cell_type": "code",
      "execution_count": 7,
      "metadata": {
        "colab": {
          "base_uri": "https://localhost:8080/"
        },
        "id": "lte1gEr02PwZ",
        "outputId": "5e218ddb-bf23-49c9-c06d-6ba527715e1b"
      },
      "outputs": [
        {
          "name": "stdout",
          "output_type": "stream",
          "text": [
            "Full match: John Doe, 30 years old\n",
            "First name: John\n",
            "Last name: Doe\n",
            "Age: 30\n"
          ]
        }
      ],
      "source": [
        "# Example 6: Using named groups\n",
        "text = \"John Doe, 30 years old\"\n",
        "pattern = r\"(?P<first_name>\\w+) (?P<last_name>\\w+), (?P<age>\\d+) years old\"\n",
        "\n",
        "match = re.search(pattern, text)\n",
        "if match:\n",
        "    print(\"Full match:\", match.group(0))\n",
        "    print(\"First name:\", match.group(\"first_name\"))\n",
        "    print(\"Last name:\", match.group(\"last_name\"))\n",
        "    print(\"Age:\", match.group(\"age\"))"
      ]
    },
    {
      "cell_type": "code",
      "execution_count": 8,
      "metadata": {
        "colab": {
          "base_uri": "https://localhost:8080/"
        },
        "id": "ycKQMIBo2X5I",
        "outputId": "fda42790-0903-499f-fd16-f557744219a5"
      },
      "outputs": [
        {
          "name": "stdout",
          "output_type": "stream",
          "text": [
            "Pattern found at index 0\n"
          ]
        }
      ],
      "source": [
        "# Example 7: Using flags\n",
        "text = \"Hello, world! This is a sample text.\"\n",
        "pattern = r\"\\bhello\\b\"  # Matches the word \"hello\"\n",
        "\n",
        "match = re.search(pattern, text, re.IGNORECASE)\n",
        "if match:\n",
        "    print(\"Pattern found at index\", match.start())\n",
        "else:\n",
        "    print(\"Pattern not found\")"
      ]
    },
    {
      "cell_type": "code",
      "execution_count": 9,
      "metadata": {
        "colab": {
          "base_uri": "https://localhost:8080/"
        },
        "id": "eeZSdbEZ2pfM",
        "outputId": "b7e3d015-e3dc-4352-ac6c-ba1e21e3b261"
      },
      "outputs": [
        {
          "name": "stdout",
          "output_type": "stream",
          "text": [
            "Split text: ['Hello', 'world', 'This is a sample text.']\n"
          ]
        }
      ],
      "source": [
        "# Example 8: Max number of splits\n",
        "text = \"Hello, world! This is a sample text.\"\n",
        "pattern = r\"\\W+\"  # Matches one or more non-word characters\n",
        "\n",
        "split_text = re.split(pattern, text, maxsplit=2)\n",
        "print(\"Split text:\", split_text)"
      ]
    },
    {
      "cell_type": "code",
      "execution_count": 10,
      "metadata": {
        "colab": {
          "base_uri": "https://localhost:8080/"
        },
        "id": "QoMnAIzH2t0q",
        "outputId": "9f9e7849-f3d8-4ac2-fdca-cabe68fb65f9"
      },
      "outputs": [
        {
          "name": "stdout",
          "output_type": "stream",
          "text": [
            "New text: HELLO, WORLD! This is a sample text.\n"
          ]
        }
      ],
      "source": [
        "# Example 9: Using sub function with a callback\n",
        "text = \"Hello, world! This is a sample text.\"\n",
        "pattern = r\"\\b\\w{5}\\b\"  # Matches words with exactly 5 characters\n",
        "\n",
        "def replace_word(match):\n",
        "    word = match.group(0)\n",
        "    return word.upper()\n",
        "\n",
        "new_text = re.sub(pattern, replace_word, text)\n",
        "print(\"New text:\", new_text)"
      ]
    },
    {
      "cell_type": "code",
      "execution_count": 12,
      "metadata": {
        "colab": {
          "base_uri": "https://localhost:8080/"
        },
        "id": "eKscT_jB2u4U",
        "outputId": "483ab572-4a4f-49b8-9fbf-c0e2c7ea55dc"
      },
      "outputs": [
        {
          "name": "stdout",
          "output_type": "stream",
          "text": [
            "Matches: ['i', 'i', 'a', 'a', 'e', 'e', 'i', 'o', 'e', 'u', 'e', '1', '2', '3', '4', '5']\n"
          ]
        }
      ],
      "source": [
        "# Example 10: Using sets to match characters\n",
        "text = \"This is a sample text with some numbers: 12345.\"\n",
        "pattern = r\"[aeiou0-9]\"  # Matches vowels and digits\n",
        "\n",
        "matches = re.findall(pattern, text)\n",
        "print(\"Matches:\", matches)"
      ]
    }
  ],
  "metadata": {
    "colab": {
      "provenance": []
    },
    "kernelspec": {
      "display_name": "Python 3",
      "name": "python3"
    },
    "language_info": {
      "name": "python",
      "version": "3.12.1"
    }
  },
  "nbformat": 4,
  "nbformat_minor": 0
}
