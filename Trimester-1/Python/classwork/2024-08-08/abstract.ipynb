{
 "cells": [
  {
   "cell_type": "code",
   "execution_count": 19,
   "metadata": {},
   "outputs": [
    {
     "name": "stdout",
     "output_type": "stream",
     "text": [
      "ConcreteClass display method\n"
     ]
    }
   ],
   "source": [
    "from abc import ABC, abstractmethod\n",
    "\n",
    "class AbstractClass(ABC):\n",
    "    @abstractmethod\n",
    "    def display(self):\n",
    "        print(\"AbstractClass display method\")\n",
    "\n",
    "\n",
    "class ConcreteClass(AbstractClass):\n",
    "    def display(self):\n",
    "        print(\"ConcreteClass display method\")\n",
    "\n",
    "\n",
    "# a = AbstractClass() # TypeError: Can't instantiate abstract class AbstractClass with abstract methods display\n",
    "c = ConcreteClass()\n",
    "c.display()"
   ]
  },
  {
   "cell_type": "code",
   "execution_count": 22,
   "metadata": {},
   "outputs": [],
   "source": [
    "from abc import ABC, abstractmethod\n",
    "\n",
    "class Vehicle(ABC):\n",
    "    @abstractmethod\n",
    "    def start(self):\n",
    "        pass\n",
    "    \n",
    "    @abstractmethod\n",
    "    def stop(self):\n",
    "        pass\n",
    "    \n",
    "    @abstractmethod\n",
    "    def get_vehicle_type(self):\n",
    "        pass\n",
    "\n",
    "class Car(Vehicle):\n",
    "    def start(self):\n",
    "        print(\"Car started\")\n",
    "    \n",
    "    def stop(self):\n",
    "        print(\"Car stopped\")\n",
    "    \n",
    "    def get_vehicle_type(self):\n",
    "        return \"Car\"\n",
    "\n",
    "class Bike(Vehicle):\n",
    "    def start(self):\n",
    "        print(\"Bike started\")\n",
    "    \n",
    "    def stop(self):\n",
    "        print(\"Bike stopped\")\n",
    "    \n",
    "    def get_vehicle_type(self):\n",
    "        return \"Bike\"\n",
    "\n",
    "class Truck(Vehicle):\n",
    "    def start(self):\n",
    "        print(\"Truck started\")\n",
    "    \n",
    "    def stop(self):\n",
    "        print(\"Truck stopped\")\n",
    "    \n",
    "    def get_vehicle_type(self):\n",
    "        return \"Truck\"\n",
    "    "
   ]
  },
  {
   "cell_type": "code",
   "execution_count": 23,
   "metadata": {},
   "outputs": [
    {
     "name": "stdout",
     "output_type": "stream",
     "text": [
      "Car started\n",
      "Car stopped\n",
      "Car\n",
      "Bike started\n",
      "Bike stopped\n",
      "Bike\n",
      "Truck started\n",
      "Truck stopped\n",
      "Truck\n"
     ]
    }
   ],
   "source": [
    "# v = Vehicle() # TypeError: Can't instantiate abstract class Vehicle with abstract methods get_vehicle_type, start, stop\n",
    "\n",
    "car = Car()\n",
    "car.start()\n",
    "car.stop()\n",
    "print(car.get_vehicle_type())\n",
    "\n",
    "bike = Bike()\n",
    "bike.start()\n",
    "bike.stop()\n",
    "print(bike.get_vehicle_type())\n",
    "\n",
    "truck = Truck()\n",
    "truck.start()\n",
    "truck.stop()\n",
    "print(truck.get_vehicle_type())\n"
   ]
  }
 ],
 "metadata": {
  "kernelspec": {
   "display_name": "Python 3",
   "language": "python",
   "name": "python3"
  },
  "language_info": {
   "codemirror_mode": {
    "name": "ipython",
    "version": 3
   },
   "file_extension": ".py",
   "mimetype": "text/x-python",
   "name": "python",
   "nbconvert_exporter": "python",
   "pygments_lexer": "ipython3",
   "version": "3.12.1"
  }
 },
 "nbformat": 4,
 "nbformat_minor": 2
}
