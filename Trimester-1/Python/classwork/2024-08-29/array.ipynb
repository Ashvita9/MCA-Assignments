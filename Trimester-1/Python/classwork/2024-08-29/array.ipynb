{
 "cells": [
  {
   "cell_type": "code",
   "execution_count": 3,
   "metadata": {},
   "outputs": [],
   "source": [
    "import numpy as np"
   ]
  },
  {
   "cell_type": "code",
   "execution_count": 4,
   "metadata": {},
   "outputs": [
    {
     "name": "stdout",
     "output_type": "stream",
     "text": [
      "float32 [0. 2. 3.]\n",
      "int64 [0 2 3]\n",
      "uint8 [0 2 3]\n",
      "complex64 [0.+0.j 2.+0.j 3.+0.j]\n",
      "bool [False  True  True]\n"
     ]
    }
   ],
   "source": [
    "a = np.array([0, 2, 3], dtype=np.float32)\n",
    "print(a.dtype, a)\n",
    "\n",
    "a = np.array([0, 2, 3], dtype=np.int64)\n",
    "print(a.dtype, a)\n",
    "\n",
    "a = np.array([0, 2, 3], dtype=np.uint8)\n",
    "print(a.dtype, a)\n",
    "\n",
    "a = np.array([0, 2, 3], dtype=np.complex64)\n",
    "print(a.dtype, a)\n",
    "\n",
    "a = np.array([0, 2, 3], dtype=np.bool)\n",
    "print(a.dtype, a)"
   ]
  },
  {
   "cell_type": "code",
   "execution_count": 5,
   "metadata": {},
   "outputs": [],
   "source": [
    "a = np.dtype([('name', np.str_, 16), ('grades', np.float64)])\n",
    "data = np.array([('Sarah', 8.0), ('John', 7.0)], dtype=a)"
   ]
  },
  {
   "cell_type": "code",
   "execution_count": 6,
   "metadata": {},
   "outputs": [
    {
     "name": "stdout",
     "output_type": "stream",
     "text": [
      "['Sarah' 'John']\n"
     ]
    }
   ],
   "source": [
    "print(data['name'])"
   ]
  },
  {
   "cell_type": "code",
   "execution_count": 7,
   "metadata": {},
   "outputs": [
    {
     "name": "stdout",
     "output_type": "stream",
     "text": [
      "[8. 7.]\n"
     ]
    }
   ],
   "source": [
    "print(data['grades'])"
   ]
  },
  {
   "cell_type": "code",
   "execution_count": 8,
   "metadata": {},
   "outputs": [
    {
     "data": {
      "text/plain": [
       "array([('Sarah', 8.), ('John', 7.)],\n",
       "      dtype=[('name', '<U16'), ('grades', '<f8')])"
      ]
     },
     "execution_count": 8,
     "metadata": {},
     "output_type": "execute_result"
    }
   ],
   "source": [
    "np.sort(data, order='grades')[::-1]"
   ]
  },
  {
   "cell_type": "code",
   "execution_count": 10,
   "metadata": {},
   "outputs": [
    {
     "data": {
      "text/plain": [
       "array([('Sarah',  1000., 10), ('John',   500.,  5), ('Shrey', 10000.,  3),\n",
       "       ('Anjaney',  5000.,  5), ('Dave',  5000., 10),\n",
       "       ('Kumar',  1000.,  3)],\n",
       "      dtype=[('name', '<U16'), ('salary', '<f8'), ('experience', '<i4')])"
      ]
     },
     "execution_count": 10,
     "metadata": {},
     "output_type": "execute_result"
    }
   ],
   "source": [
    "a = np.dtype([('name', np.str_, 16), ('salary', np.float64), ('experience', np.int32)])\n",
    "\n",
    "data = np.array([\n",
    "    ('Sarah', 1000, 10), \n",
    "    ('John', 500, 5), \n",
    "    ('Shrey', 10000, 3),\n",
    "    ('Anjaney', 5000, 5),\n",
    "    ('Dave', 5000, 10),\n",
    "    ('Kumar', 1000, 3)\n",
    "    ], dtype=a)\n",
    "\n",
    "data"
   ]
  },
  {
   "cell_type": "code",
   "execution_count": 13,
   "metadata": {},
   "outputs": [
    {
     "data": {
      "text/plain": [
       "array([('Shrey', 10000.,  3), ('Dave',  5000., 10),\n",
       "       ('Anjaney',  5000.,  5), ('Sarah',  1000., 10),\n",
       "       ('Kumar',  1000.,  3), ('John',   500.,  5)],\n",
       "      dtype=[('name', '<U16'), ('salary', '<f8'), ('experience', '<i4')])"
      ]
     },
     "execution_count": 13,
     "metadata": {},
     "output_type": "execute_result"
    }
   ],
   "source": [
    "data_n = np.sort(data, order=['salary', 'experience'])[::-1]\n",
    "data_n"
   ]
  },
  {
   "cell_type": "code",
   "execution_count": null,
   "metadata": {},
   "outputs": [],
   "source": []
  }
 ],
 "metadata": {
  "kernelspec": {
   "display_name": "Python 3",
   "language": "python",
   "name": "python3"
  },
  "language_info": {
   "codemirror_mode": {
    "name": "ipython",
    "version": 3
   },
   "file_extension": ".py",
   "mimetype": "text/x-python",
   "name": "python",
   "nbconvert_exporter": "python",
   "pygments_lexer": "ipython3",
   "version": "3.12.1"
  }
 },
 "nbformat": 4,
 "nbformat_minor": 2
}
