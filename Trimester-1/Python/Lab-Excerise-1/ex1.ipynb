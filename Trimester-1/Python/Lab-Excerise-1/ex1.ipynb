{
 "cells": [
  {
   "cell_type": "code",
   "execution_count": 1,
   "metadata": {},
   "outputs": [
    {
     "name": "stdout",
     "output_type": "stream",
     "text": [
      "15\n",
      "120\n",
      "5\n",
      "1\n"
     ]
    }
   ],
   "source": [
    "# Declare a python datatype list and do the following:\n",
    "# (a) Write a Python program to sum all the items of the list.\n",
    "# (b) Write a Python program to multiply all the items.\n",
    "# (c) Write a Python program to get the largest number from a list.\n",
    "# (d) Write a Python program to get the smallest number from a list.\n",
    "\n",
    "a = [1,2,3,4,5]\n",
    "\n",
    "print(sum(a))\n",
    "p = 1\n",
    "for i in a:\n",
    "    p =p * i\n",
    "print(p)\n",
    "print(max(a))\n",
    "print(min(a))"
   ]
  },
  {
   "cell_type": "code",
   "execution_count": 2,
   "metadata": {},
   "outputs": [
    {
     "name": "stdout",
     "output_type": "stream",
     "text": [
      "2 aba\n",
      "3 1221\n"
     ]
    }
   ],
   "source": [
    "# Let A=[‘abc’, ‘xyz’, ‘aba’, 1221’] be a given string, and write a Python\n",
    "# program that prints the string or strings and their index from the given list,\n",
    "# ensuring that the first and last characters of the strings to be printed are\n",
    "# identical.\n",
    "\n",
    "a = ['abc', 'xyz', 'aba', '1221']\n",
    "for idx, i in enumerate(a):\n",
    "    if i[0] == i[-1]:\n",
    "        print(idx, i)"
   ]
  },
  {
   "cell_type": "code",
   "execution_count": 5,
   "metadata": {},
   "outputs": [
    {
     "name": "stdout",
     "output_type": "stream",
     "text": [
      "   \n",
      "   A\n",
      "  AB\n",
      "  ABC\n",
      " ABCD\n",
      " ABCDE\n",
      "\n",
      "*\n",
      "**\n",
      "***\n",
      "****\n",
      "*****\n"
     ]
    }
   ],
   "source": [
    "# Write a python program to print patterns given below:\n",
    "\n",
    "a = 'ABCDE'\n",
    "\n",
    "for i in range(1+len(a)):\n",
    "    print(\" \"*((len(a)-i)//2), a[0:i])\n",
    "\n",
    "for i in range(6):\n",
    "    print('*'*i)"
   ]
  },
  {
   "cell_type": "code",
   "execution_count": 4,
   "metadata": {},
   "outputs": [
    {
     "data": {
      "text/plain": [
       "[{'colorName': 'Black', 'colorCode': '000000'},\n",
       " {'colorName': 'Red', 'colorCode': 'FF0000'},\n",
       " {'colorName': 'Maroon', 'colorCode': '800000'},\n",
       " {'colorName': 'Yellow', 'colorCode': 'FFFF00'}]"
      ]
     },
     "execution_count": 4,
     "metadata": {},
     "output_type": "execute_result"
    }
   ],
   "source": [
    "# Write a Python program to convert the given list to a list of dictionaries.\n",
    "# ListColour= [\"Black\", \"Red\", \"Maroon\", \"Yellow\"], [\"000000\", \"FF0000\", \"800000\", \"FFFF00\"]\n",
    "# Expected Output: {’colorName’: ’Black’, ’colorCode’: ’000000’}, {’color-Name’: ’Red’, ’colorCode’: ’FF0000’}, ’colorName’: ’Maroon’, ’colorCode’:’800000’}, {’colorName’: ’Yellow’, ’colorCode’: ’FFFF00’}\n",
    "\n",
    "ListColour= ([\"Black\", \"Red\", \"Maroon\", \"Yellow\"], [\"000000\", \"FF0000\",\n",
    "\"800000\", \"FFFF00\"])\n",
    "\n",
    "a = []\n",
    "for i in range(4):\n",
    "    a.append(\n",
    "        {\n",
    "            'colorName': ListColour[0][i],\n",
    "            \"colorCode\": ListColour[1][i]\n",
    "        }\n",
    "    )\n",
    "\n",
    "a"
   ]
  },
  {
   "cell_type": "code",
   "execution_count": 5,
   "metadata": {},
   "outputs": [
    {
     "name": "stdout",
     "output_type": "stream",
     "text": [
      "2 4\n",
      "4 16\n",
      "6 36\n",
      "8 64\n",
      "10 100\n",
      "12 144\n",
      "14 196\n",
      "16 256\n",
      "18 324\n",
      "20 400\n",
      "22 484\n",
      "24 576\n",
      "26 676\n",
      "28 784\n",
      "30 900\n",
      "32 1024\n",
      "34 1156\n",
      "36 1296\n",
      "38 1444\n",
      "40 1600\n",
      "42 1764\n",
      "44 1936\n",
      "46 2116\n",
      "48 2304\n",
      "50 2500\n",
      "52 2704\n",
      "54 2916\n",
      "56 3136\n",
      "58 3364\n",
      "60 3600\n",
      "62 3844\n",
      "64 4096\n",
      "66 4356\n",
      "68 4624\n",
      "70 4900\n",
      "72 5184\n",
      "74 5476\n",
      "76 5776\n",
      "78 6084\n",
      "80 6400\n",
      "82 6724\n",
      "84 7056\n",
      "86 7396\n",
      "88 7744\n",
      "90 8100\n",
      "92 8464\n",
      "94 8836\n",
      "96 9216\n",
      "98 9604\n"
     ]
    }
   ],
   "source": [
    "# Write a Python program to print all the even numbers and their squares\n",
    "# within the given range.\n",
    "# (a) range(1,50)\n",
    "# (b) range(1,100)\n",
    "\n",
    "for i in range(1,100):\n",
    "    if i % 2 == 0:\n",
    "        print(i, i**2)"
   ]
  },
  {
   "cell_type": "code",
   "execution_count": 8,
   "metadata": {},
   "outputs": [
    {
     "name": "stdout",
     "output_type": "stream",
     "text": [
      "sum:  10\n",
      "reverse:  4321\n"
     ]
    }
   ],
   "source": [
    "# Write a Python program to read a four-digit number and find its\n",
    "# (a) Sum of digits\n",
    "# (b) Reverse\n",
    "\n",
    "a = str(input(\"4 digit number: \"))\n",
    "s = 0\n",
    "for i in a:\n",
    "    s += int(i)\n",
    "print('sum: ', s)\n",
    "print('reverse: ', a[::-1])"
   ]
  },
  {
   "cell_type": "code",
   "execution_count": 15,
   "metadata": {},
   "outputs": [
    {
     "name": "stdout",
     "output_type": "stream",
     "text": [
      "A: 40.30125738579637%\n",
      "B: 59.69874261420364%\n"
     ]
    }
   ],
   "source": [
    "# Write a program to find the area of a triangle. Then find the area of two\n",
    "# arbitrary triangles by entering the three sides both using the input function\n",
    "# (input()). Print the total area enclosed by both triangles and each triangle’s\n",
    "# contribution (%) towards it.\n",
    "\n",
    "a = []\n",
    "b = []\n",
    "\n",
    "for i in range(3):\n",
    "    a.append(int(input(f\"Enter Triangle A Side {1 + i}: \")))\n",
    "    b.append(int(input(f\"Enter Triangle B Side {1 + i}: \")))\n",
    "sa = sum(a)/2\n",
    "aa = (sa*(sa-a[0])*(sa-a[1])*(sa-a[2]))**0.5\n",
    "sb = sum(b)/2\n",
    "ba = (sb*(sb-b[0])*(sb-b[1])*(sb-b[2]))**0.5\n",
    "\n",
    "ap = aa/(aa + ba) * 100\n",
    "bp = ba/(aa + ba) * 100\n",
    "\n",
    "print(f'A: {ap}%\\nB: {bp}%')"
   ]
  },
  {
   "cell_type": "code",
   "execution_count": 18,
   "metadata": {},
   "outputs": [
    {
     "name": "stdout",
     "output_type": "stream",
     "text": [
      "-------------\n",
      "Name: John Doe\n",
      "Age: 30\n",
      "Blood Group: A+\n",
      "-------------\n",
      "Name: Jane Smith\n",
      "Age: 25\n",
      "Blood Group: B-\n",
      "-------------\n",
      "Name: Emily Davis\n",
      "Age: 40\n",
      "Blood Group: O+\n",
      "-------------\n",
      "Name: Michael Brown\n",
      "Age: 35\n",
      "Blood Group: AB-\n",
      "-------------\n",
      "Name: William Johnson\n",
      "Age: 28\n",
      "Blood Group: A-\n",
      "-------------\n",
      "Name: Emma Wilson\n",
      "Age: 22\n",
      "Blood Group: B+\n",
      "-------------\n",
      "Name: Oliver Martinez\n",
      "Age: 33\n",
      "Blood Group: O-\n",
      "-------------\n",
      "Name: Sophia Anderson\n",
      "Age: 27\n",
      "Blood Group: AB+\n",
      "-------------\n",
      "Name: James Thomas\n",
      "Age: 45\n",
      "Blood Group: A+\n",
      "-------------\n",
      "Name: Isabella Lee\n",
      "Age: 38\n",
      "Blood Group: B-\n"
     ]
    }
   ],
   "source": [
    "# Given a dictionary containing the following information about 10 different people:\n",
    "# Write a Python program that prints each person’s name, age, and blood\n",
    "# group in a formatted manner. Each person’s information should be separated\n",
    "# by a line of dashes (-).\n",
    "\n",
    "people = [\n",
    "    {\"name\": \"John Doe\", \"age\": 30, \"blood_group\": \"A+\"},\n",
    "    {\"name\": \"Jane Smith\", \"age\": 25, \"blood_group\": \"B-\"},\n",
    "    {\"name\": \"Emily Davis\", \"age\": 40, \"blood_group\": \"O+\"},\n",
    "    {\"name\": \"Michael Brown\", \"age\": 35, \"blood_group\": \"AB-\"},\n",
    "    {\"name\": \"William Johnson\", \"age\": 28, \"blood_group\": \"A-\"},\n",
    "    {\"name\": \"Emma Wilson\", \"age\": 22, \"blood_group\": \"B+\"},\n",
    "    {\"name\": \"Oliver Martinez\", \"age\": 33, \"blood_group\": \"O-\"},\n",
    "    {\"name\": \"Sophia Anderson\", \"age\": 27, \"blood_group\": \"AB+\"},\n",
    "    {\"name\": \"James Thomas\", \"age\": 45, \"blood_group\": \"A+\"},\n",
    "    {\"name\": \"Isabella Lee\", \"age\": 38, \"blood_group\": \"B-\"}\n",
    "]\n",
    "\n",
    "for i in people:\n",
    "    print(f\"-------------\\nName: {i[\"name\"]}\\nAge: {i[\"age\"]}\\nBlood Group: {i[\"blood_group\"]}\")"
   ]
  },
  {
   "cell_type": "code",
   "execution_count": 19,
   "metadata": {},
   "outputs": [
    {
     "data": {
      "text/plain": [
       "['c', 'z', 'n', 'd']"
      ]
     },
     "execution_count": 19,
     "metadata": {},
     "output_type": "execute_result"
    }
   ],
   "source": [
    "# Write a Python program to extract the rear elements from a tuple string as\n",
    "# depicted in the following figure:\n",
    "\n",
    "a = ('abc','xyz','vbn','asd')\n",
    "o = []\n",
    "for i in a:\n",
    "    o.append(i[-1])\n",
    "o"
   ]
  },
  {
   "cell_type": "code",
   "execution_count": 23,
   "metadata": {},
   "outputs": [
    {
     "name": "stdout",
     "output_type": "stream",
     "text": [
      "Jan 31 Days\n",
      "Feb 28 Days\n",
      "Feb 29 Days\n",
      "Aug 31 Days\n",
      "Sep 30 Days\n",
      "Jul 31 Days\n",
      "Invalid Input!\n"
     ]
    }
   ],
   "source": [
    "# Declare a list/tuple containing all the twelve months. Write a Python program\n",
    "# that converts a month name entered via the Python console to the number\n",
    "# of days in that month (Consider leap year as well the code):\n",
    "\n",
    "a = [\"Jan\", \"Feb\", 'Mar', \"Apr\", \"May\", \"Jun\", \"Jul\", \"Aug\", \"Sep\", \"Oct\", \"Nov\", \"Dec\"]\n",
    "\n",
    "while True:\n",
    "    i = input(f\"Enter Month {a} and 'q' to quit:\")\n",
    "\n",
    "    if i in [\"Jan\", 'Mar', \"May\", \"Jul\", \"Aug\", \"Oct\", \"Dec\"]:\n",
    "        print(i, \"31 Days\")\n",
    "    elif i in [\"Apr\", \"Jun\", \"Sep\", \"Nov\"]:\n",
    "        print(i, \"30 Days\")\n",
    "    elif i == \"Feb\":\n",
    "        y = int(input(\"Enter Year: \"))\n",
    "        if y % 4 == 0:\n",
    "            print(i, \"29 Days\")\n",
    "        else:\n",
    "            print(i, \"28 Days\")\n",
    "    elif i == 'q':\n",
    "        break\n",
    "    else:\n",
    "        print(\"Invalid Input!\")"
   ]
  }
 ],
 "metadata": {
  "kernelspec": {
   "display_name": "Python 3",
   "language": "python",
   "name": "python3"
  },
  "language_info": {
   "codemirror_mode": {
    "name": "ipython",
    "version": 3
   },
   "file_extension": ".py",
   "mimetype": "text/x-python",
   "name": "python",
   "nbconvert_exporter": "python",
   "pygments_lexer": "ipython3",
   "version": "3.12.1"
  }
 },
 "nbformat": 4,
 "nbformat_minor": 2
}
